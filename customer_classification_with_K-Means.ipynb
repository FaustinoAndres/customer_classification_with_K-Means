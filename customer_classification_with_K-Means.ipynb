{
 "cells": [
  {
   "cell_type": "markdown",
   "source": "# Start",
   "metadata": {
    "cell_id": "16f07a9f-1fd9-45e1-ba60-d9f41cad60a0",
    "deepnote_cell_type": "markdown",
    "deepnote_cell_height": 81.5
   }
  },
  {
   "cell_type": "code",
   "metadata": {
    "cell_id": "00001-c55fee51-b33d-40ee-a27d-526e5f200cab",
    "deepnote_to_be_reexecuted": false,
    "source_hash": "68301009",
    "execution_start": 1651849378976,
    "execution_millis": 1,
    "deepnote_cell_type": "code",
    "deepnote_cell_height": 134.5
   },
   "source": "import pandas as pd\nimport numpy as np\nimport seaborn as sns\nimport matplotlib.pyplot as plt",
   "execution_count": 2,
   "outputs": []
  },
  {
   "cell_type": "code",
   "source": "creditcard_df = pd.read_csv('data/Marketing_data.csv')",
   "metadata": {
    "cell_id": "896983fdca284dad89db0280479f2241",
    "tags": [],
    "deepnote_to_be_reexecuted": false,
    "source_hash": "962380f1",
    "execution_start": 1651849407758,
    "execution_millis": 51,
    "deepnote_cell_type": "code",
    "deepnote_cell_height": 80.5
   },
   "outputs": [],
   "execution_count": 4
  },
  {
   "cell_type": "code",
   "source": "creditcard_df",
   "metadata": {
    "cell_id": "6b69acbbece5477994f0b3869645e771",
    "tags": [],
    "deepnote_to_be_reexecuted": false,
    "source_hash": "323fa1ea",
    "execution_start": 1651849422083,
    "execution_millis": 326,
    "deepnote_cell_type": "code",
    "deepnote_cell_height": 611.75
   },
   "outputs": [
    {
     "output_type": "execute_result",
     "execution_count": 5,
     "data": {
      "application/vnd.deepnote.dataframe.v3+json": {
       "column_count": 18,
       "row_count": 8950,
       "columns": [
        {
         "name": "CUST_ID",
         "dtype": "object",
         "stats": {
          "unique_count": 8950,
          "nan_count": 0,
          "categories": [
           {
            "name": "C10001",
            "count": 1
           },
           {
            "name": "C10002",
            "count": 1
           },
           {
            "name": "8948 others",
            "count": 8948
           }
          ]
         }
        },
        {
         "name": "BALANCE",
         "dtype": "float64",
         "stats": {
          "unique_count": 8871,
          "nan_count": 0,
          "min": "0.0",
          "max": "19043.13856",
          "histogram": [
           {
            "bin_start": 0,
            "bin_end": 1904.313856,
            "count": 6546
           },
           {
            "bin_start": 1904.313856,
            "bin_end": 3808.627712,
            "count": 1333
           },
           {
            "bin_start": 3808.627712,
            "bin_end": 5712.941568,
            "count": 577
           },
           {
            "bin_start": 5712.941568,
            "bin_end": 7617.255424,
            "count": 279
           },
           {
            "bin_start": 7617.255424,
            "bin_end": 9521.56928,
            "count": 135
           },
           {
            "bin_start": 9521.56928,
            "bin_end": 11425.883136,
            "count": 40
           },
           {
            "bin_start": 11425.883136,
            "bin_end": 13330.196992,
            "count": 21
           },
           {
            "bin_start": 13330.196992,
            "bin_end": 15234.510848,
            "count": 11
           },
           {
            "bin_start": 15234.510848,
            "bin_end": 17138.824704,
            "count": 6
           },
           {
            "bin_start": 17138.824704,
            "bin_end": 19043.13856,
            "count": 2
           }
          ]
         }
        },
        {
         "name": "BALANCE_FREQUENCY",
         "dtype": "float64",
         "stats": {
          "unique_count": 43,
          "nan_count": 0,
          "min": "0.0",
          "max": "1.0",
          "histogram": [
           {
            "bin_start": 0,
            "bin_end": 0.1,
            "count": 147
           },
           {
            "bin_start": 0.1,
            "bin_end": 0.2,
            "count": 182
           },
           {
            "bin_start": 0.2,
            "bin_end": 0.30000000000000004,
            "count": 190
           },
           {
            "bin_start": 0.30000000000000004,
            "bin_end": 0.4,
            "count": 201
           },
           {
            "bin_start": 0.4,
            "bin_end": 0.5,
            "count": 194
           },
           {
            "bin_start": 0.5,
            "bin_end": 0.6000000000000001,
            "count": 294
           },
           {
            "bin_start": 0.6000000000000001,
            "bin_end": 0.7000000000000001,
            "count": 270
           },
           {
            "bin_start": 0.7000000000000001,
            "bin_end": 0.8,
            "count": 277
           },
           {
            "bin_start": 0.8,
            "bin_end": 0.9,
            "count": 519
           },
           {
            "bin_start": 0.9,
            "bin_end": 1,
            "count": 6676
           }
          ]
         }
        },
        {
         "name": "PURCHASES",
         "dtype": "float64",
         "stats": {
          "unique_count": 6203,
          "nan_count": 0,
          "min": "0.0",
          "max": "49039.57",
          "histogram": [
           {
            "bin_start": 0,
            "bin_end": 4903.957,
            "count": 8645
           },
           {
            "bin_start": 4903.957,
            "bin_end": 9807.914,
            "count": 234
           },
           {
            "bin_start": 9807.914,
            "bin_end": 14711.871000000001,
            "count": 45
           },
           {
            "bin_start": 14711.871000000001,
            "bin_end": 19615.828,
            "count": 4
           },
           {
            "bin_start": 19615.828,
            "bin_end": 24519.785000000003,
            "count": 8
           },
           {
            "bin_start": 24519.785000000003,
            "bin_end": 29423.742000000002,
            "count": 7
           },
           {
            "bin_start": 29423.742000000002,
            "bin_end": 34327.699,
            "count": 2
           },
           {
            "bin_start": 34327.699,
            "bin_end": 39231.656,
            "count": 2
           },
           {
            "bin_start": 39231.656,
            "bin_end": 44135.613000000005,
            "count": 2
           },
           {
            "bin_start": 44135.613000000005,
            "bin_end": 49039.57,
            "count": 1
           }
          ]
         }
        },
        {
         "name": "ONEOFF_PURCHASES",
         "dtype": "float64",
         "stats": {
          "unique_count": 4014,
          "nan_count": 0,
          "min": "0.0",
          "max": "40761.25",
          "histogram": [
           {
            "bin_start": 0,
            "bin_end": 4076.125,
            "count": 8749
           },
           {
            "bin_start": 4076.125,
            "bin_end": 8152.25,
            "count": 144
           },
           {
            "bin_start": 8152.25,
            "bin_end": 12228.375,
            "count": 32
           },
           {
            "bin_start": 12228.375,
            "bin_end": 16304.5,
            "count": 8
           },
           {
            "bin_start": 16304.5,
            "bin_end": 20380.625,
            "count": 4
           },
           {
            "bin_start": 20380.625,
            "bin_end": 24456.75,
            "count": 5
           },
           {
            "bin_start": 24456.75,
            "bin_end": 28532.875,
            "count": 4
           },
           {
            "bin_start": 28532.875,
            "bin_end": 32609,
            "count": 0
           },
           {
            "bin_start": 32609,
            "bin_end": 36685.125,
            "count": 2
           },
           {
            "bin_start": 36685.125,
            "bin_end": 40761.25,
            "count": 2
           }
          ]
         }
        },
        {
         "name": "INSTALLMENTS_PURCHASES",
         "dtype": "float64",
         "stats": {
          "unique_count": 4452,
          "nan_count": 0,
          "min": "0.0",
          "max": "22500.0",
          "histogram": [
           {
            "bin_start": 0,
            "bin_end": 2250,
            "count": 8678
           },
           {
            "bin_start": 2250,
            "bin_end": 4500,
            "count": 209
           },
           {
            "bin_start": 4500,
            "bin_end": 6750,
            "count": 35
           },
           {
            "bin_start": 6750,
            "bin_end": 9000,
            "count": 14
           },
           {
            "bin_start": 9000,
            "bin_end": 11250,
            "count": 3
           },
           {
            "bin_start": 11250,
            "bin_end": 13500,
            "count": 8
           },
           {
            "bin_start": 13500,
            "bin_end": 15750,
            "count": 2
           },
           {
            "bin_start": 15750,
            "bin_end": 18000,
            "count": 0
           },
           {
            "bin_start": 18000,
            "bin_end": 20250,
            "count": 0
           },
           {
            "bin_start": 20250,
            "bin_end": 22500,
            "count": 1
           }
          ]
         }
        },
        {
         "name": "CASH_ADVANCE",
         "dtype": "float64",
         "stats": {
          "unique_count": 4323,
          "nan_count": 0,
          "min": "0.0",
          "max": "47137.21176",
          "histogram": [
           {
            "bin_start": 0,
            "bin_end": 4713.721176,
            "count": 8509
           },
           {
            "bin_start": 4713.721176,
            "bin_end": 9427.442352,
            "count": 345
           },
           {
            "bin_start": 9427.442352,
            "bin_end": 14141.163528000001,
            "count": 67
           },
           {
            "bin_start": 14141.163528000001,
            "bin_end": 18854.884704,
            "count": 16
           },
           {
            "bin_start": 18854.884704,
            "bin_end": 23568.60588,
            "count": 8
           },
           {
            "bin_start": 23568.60588,
            "bin_end": 28282.327056000002,
            "count": 3
           },
           {
            "bin_start": 28282.327056000002,
            "bin_end": 32996.048232,
            "count": 1
           },
           {
            "bin_start": 32996.048232,
            "bin_end": 37709.769408,
            "count": 0
           },
           {
            "bin_start": 37709.769408,
            "bin_end": 42423.490584,
            "count": 0
           },
           {
            "bin_start": 42423.490584,
            "bin_end": 47137.21176,
            "count": 1
           }
          ]
         }
        },
        {
         "name": "PURCHASES_FREQUENCY",
         "dtype": "float64",
         "stats": {
          "unique_count": 47,
          "nan_count": 0,
          "min": "0.0",
          "max": "1.0",
          "histogram": [
           {
            "bin_start": 0,
            "bin_end": 0.1,
            "count": 2763
           },
           {
            "bin_start": 0.1,
            "bin_end": 0.2,
            "count": 511
           },
           {
            "bin_start": 0.2,
            "bin_end": 0.30000000000000004,
            "count": 416
           },
           {
            "bin_start": 0.30000000000000004,
            "bin_end": 0.4,
            "count": 387
           },
           {
            "bin_start": 0.4,
            "bin_end": 0.5,
            "count": 331
           },
           {
            "bin_start": 0.5,
            "bin_end": 0.6000000000000001,
            "count": 765
           },
           {
            "bin_start": 0.6000000000000001,
            "bin_end": 0.7000000000000001,
            "count": 346
           },
           {
            "bin_start": 0.7000000000000001,
            "bin_end": 0.8,
            "count": 333
           },
           {
            "bin_start": 0.8,
            "bin_end": 0.9,
            "count": 472
           },
           {
            "bin_start": 0.9,
            "bin_end": 1,
            "count": 2626
           }
          ]
         }
        },
        {
         "name": "ONEOFF_PURCHASES_FREQUENCY",
         "dtype": "float64",
         "stats": {
          "unique_count": 47,
          "nan_count": 0,
          "min": "0.0",
          "max": "1.0",
          "histogram": [
           {
            "bin_start": 0,
            "bin_end": 0.1,
            "count": 5462
           },
           {
            "bin_start": 0.1,
            "bin_end": 0.2,
            "count": 769
           },
           {
            "bin_start": 0.2,
            "bin_end": 0.30000000000000004,
            "count": 488
           },
           {
            "bin_start": 0.30000000000000004,
            "bin_end": 0.4,
            "count": 379
           },
           {
            "bin_start": 0.4,
            "bin_end": 0.5,
            "count": 274
           },
           {
            "bin_start": 0.5,
            "bin_end": 0.6000000000000001,
            "count": 460
           },
           {
            "bin_start": 0.6000000000000001,
            "bin_end": 0.7000000000000001,
            "count": 181
           },
           {
            "bin_start": 0.7000000000000001,
            "bin_end": 0.8,
            "count": 157
           },
           {
            "bin_start": 0.8,
            "bin_end": 0.9,
            "count": 143
           },
           {
            "bin_start": 0.9,
            "bin_end": 1,
            "count": 637
           }
          ]
         }
        },
        {
         "name": "PURCHASES_INSTALLMENTS_FREQUENCY",
         "dtype": "float64",
         "stats": {
          "unique_count": 47,
          "nan_count": 0,
          "min": "0.0",
          "max": "1.0",
          "histogram": [
           {
            "bin_start": 0,
            "bin_end": 0.1,
            "count": 4202
           },
           {
            "bin_start": 0.1,
            "bin_end": 0.2,
            "count": 345
           },
           {
            "bin_start": 0.2,
            "bin_end": 0.30000000000000004,
            "count": 301
           },
           {
            "bin_start": 0.30000000000000004,
            "bin_end": 0.4,
            "count": 272
           },
           {
            "bin_start": 0.4,
            "bin_end": 0.5,
            "count": 430
           },
           {
            "bin_start": 0.5,
            "bin_end": 0.6000000000000001,
            "count": 580
           },
           {
            "bin_start": 0.6000000000000001,
            "bin_end": 0.7000000000000001,
            "count": 329
           },
           {
            "bin_start": 0.7000000000000001,
            "bin_end": 0.8,
            "count": 335
           },
           {
            "bin_start": 0.8,
            "bin_end": 0.9,
            "count": 436
           },
           {
            "bin_start": 0.9,
            "bin_end": 1,
            "count": 1720
           }
          ]
         }
        },
        {
         "name": "CASH_ADVANCE_FREQUENCY",
         "dtype": "float64",
         "stats": {
          "unique_count": 54,
          "nan_count": 0,
          "min": "0.0",
          "max": "1.5",
          "histogram": [
           {
            "bin_start": 0,
            "bin_end": 0.15,
            "count": 5883
           },
           {
            "bin_start": 0.15,
            "bin_end": 0.3,
            "count": 1486
           },
           {
            "bin_start": 0.3,
            "bin_end": 0.44999999999999996,
            "count": 817
           },
           {
            "bin_start": 0.44999999999999996,
            "bin_end": 0.6,
            "count": 405
           },
           {
            "bin_start": 0.6,
            "bin_end": 0.75,
            "count": 160
           },
           {
            "bin_start": 0.75,
            "bin_end": 0.8999999999999999,
            "count": 134
           },
           {
            "bin_start": 0.8999999999999999,
            "bin_end": 1.05,
            "count": 57
           },
           {
            "bin_start": 1.05,
            "bin_end": 1.2,
            "count": 6
           },
           {
            "bin_start": 1.2,
            "bin_end": 1.3499999999999999,
            "count": 1
           },
           {
            "bin_start": 1.3499999999999999,
            "bin_end": 1.5,
            "count": 1
           }
          ]
         }
        },
        {
         "name": "CASH_ADVANCE_TRX",
         "dtype": "int64"
        },
        {
         "name": "PURCHASES_TRX",
         "dtype": "int64"
        },
        {
         "name": "CREDIT_LIMIT",
         "dtype": "float64"
        },
        {
         "name": "PAYMENTS",
         "dtype": "float64"
        },
        {
         "name": "MINIMUM_PAYMENTS",
         "dtype": "float64"
        },
        {
         "name": "PRC_FULL_PAYMENT",
         "dtype": "float64"
        },
        {
         "name": "TENURE",
         "dtype": "int64"
        },
        {
         "name": "_deepnote_index_column",
         "dtype": "int64"
        }
       ],
       "rows": [
        {
         "CUST_ID": "C10001",
         "BALANCE": 40.900749,
         "BALANCE_FREQUENCY": 0.818182,
         "PURCHASES": 95.4,
         "ONEOFF_PURCHASES": 0,
         "INSTALLMENTS_PURCHASES": 95.4,
         "CASH_ADVANCE": 0,
         "PURCHASES_FREQUENCY": 0.166667,
         "ONEOFF_PURCHASES_FREQUENCY": 0,
         "PURCHASES_INSTALLMENTS_FREQUENCY": 0.083333,
         "CASH_ADVANCE_FREQUENCY": 0,
         "CASH_ADVANCE_TRX": 0,
         "PURCHASES_TRX": 2,
         "CREDIT_LIMIT": 1000,
         "PAYMENTS": 201.802084,
         "MINIMUM_PAYMENTS": 139.509787,
         "PRC_FULL_PAYMENT": 0,
         "TENURE": 12,
         "_deepnote_index_column": 0
        },
        {
         "CUST_ID": "C10002",
         "BALANCE": 3202.467416,
         "BALANCE_FREQUENCY": 0.909091,
         "PURCHASES": 0,
         "ONEOFF_PURCHASES": 0,
         "INSTALLMENTS_PURCHASES": 0,
         "CASH_ADVANCE": 6442.945483,
         "PURCHASES_FREQUENCY": 0,
         "ONEOFF_PURCHASES_FREQUENCY": 0,
         "PURCHASES_INSTALLMENTS_FREQUENCY": 0,
         "CASH_ADVANCE_FREQUENCY": 0.25,
         "CASH_ADVANCE_TRX": 4,
         "PURCHASES_TRX": 0,
         "CREDIT_LIMIT": 7000,
         "PAYMENTS": 4103.032597,
         "MINIMUM_PAYMENTS": 1072.340217,
         "PRC_FULL_PAYMENT": 0.222222,
         "TENURE": 12,
         "_deepnote_index_column": 1
        },
        {
         "CUST_ID": "C10003",
         "BALANCE": 2495.148862,
         "BALANCE_FREQUENCY": 1,
         "PURCHASES": 773.17,
         "ONEOFF_PURCHASES": 773.17,
         "INSTALLMENTS_PURCHASES": 0,
         "CASH_ADVANCE": 0,
         "PURCHASES_FREQUENCY": 1,
         "ONEOFF_PURCHASES_FREQUENCY": 1,
         "PURCHASES_INSTALLMENTS_FREQUENCY": 0,
         "CASH_ADVANCE_FREQUENCY": 0,
         "CASH_ADVANCE_TRX": 0,
         "PURCHASES_TRX": 12,
         "CREDIT_LIMIT": 7500,
         "PAYMENTS": 622.066742,
         "MINIMUM_PAYMENTS": 627.284787,
         "PRC_FULL_PAYMENT": 0,
         "TENURE": 12,
         "_deepnote_index_column": 2
        },
        {
         "CUST_ID": "C10004",
         "BALANCE": 1666.670542,
         "BALANCE_FREQUENCY": 0.636364,
         "PURCHASES": 1499,
         "ONEOFF_PURCHASES": 1499,
         "INSTALLMENTS_PURCHASES": 0,
         "CASH_ADVANCE": 205.788017,
         "PURCHASES_FREQUENCY": 0.083333,
         "ONEOFF_PURCHASES_FREQUENCY": 0.083333,
         "PURCHASES_INSTALLMENTS_FREQUENCY": 0,
         "CASH_ADVANCE_FREQUENCY": 0.083333,
         "CASH_ADVANCE_TRX": 1,
         "PURCHASES_TRX": 1,
         "CREDIT_LIMIT": 7500,
         "PAYMENTS": 0,
         "MINIMUM_PAYMENTS": "nan",
         "PRC_FULL_PAYMENT": 0,
         "TENURE": 12,
         "_deepnote_index_column": 3
        },
        {
         "CUST_ID": "C10005",
         "BALANCE": 817.714335,
         "BALANCE_FREQUENCY": 1,
         "PURCHASES": 16,
         "ONEOFF_PURCHASES": 16,
         "INSTALLMENTS_PURCHASES": 0,
         "CASH_ADVANCE": 0,
         "PURCHASES_FREQUENCY": 0.083333,
         "ONEOFF_PURCHASES_FREQUENCY": 0.083333,
         "PURCHASES_INSTALLMENTS_FREQUENCY": 0,
         "CASH_ADVANCE_FREQUENCY": 0,
         "CASH_ADVANCE_TRX": 0,
         "PURCHASES_TRX": 1,
         "CREDIT_LIMIT": 1200,
         "PAYMENTS": 678.334763,
         "MINIMUM_PAYMENTS": 244.791237,
         "PRC_FULL_PAYMENT": 0,
         "TENURE": 12,
         "_deepnote_index_column": 4
        },
        {
         "CUST_ID": "C10006",
         "BALANCE": 1809.828751,
         "BALANCE_FREQUENCY": 1,
         "PURCHASES": 1333.28,
         "ONEOFF_PURCHASES": 0,
         "INSTALLMENTS_PURCHASES": 1333.28,
         "CASH_ADVANCE": 0,
         "PURCHASES_FREQUENCY": 0.666667,
         "ONEOFF_PURCHASES_FREQUENCY": 0,
         "PURCHASES_INSTALLMENTS_FREQUENCY": 0.583333,
         "CASH_ADVANCE_FREQUENCY": 0,
         "CASH_ADVANCE_TRX": 0,
         "PURCHASES_TRX": 8,
         "CREDIT_LIMIT": 1800,
         "PAYMENTS": 1400.05777,
         "MINIMUM_PAYMENTS": 2407.246035,
         "PRC_FULL_PAYMENT": 0,
         "TENURE": 12,
         "_deepnote_index_column": 5
        },
        {
         "CUST_ID": "C10007",
         "BALANCE": 627.260806,
         "BALANCE_FREQUENCY": 1,
         "PURCHASES": 7091.01,
         "ONEOFF_PURCHASES": 6402.63,
         "INSTALLMENTS_PURCHASES": 688.38,
         "CASH_ADVANCE": 0,
         "PURCHASES_FREQUENCY": 1,
         "ONEOFF_PURCHASES_FREQUENCY": 1,
         "PURCHASES_INSTALLMENTS_FREQUENCY": 1,
         "CASH_ADVANCE_FREQUENCY": 0,
         "CASH_ADVANCE_TRX": 0,
         "PURCHASES_TRX": 64,
         "CREDIT_LIMIT": 13500,
         "PAYMENTS": 6354.314328,
         "MINIMUM_PAYMENTS": 198.065894,
         "PRC_FULL_PAYMENT": 1,
         "TENURE": 12,
         "_deepnote_index_column": 6
        },
        {
         "CUST_ID": "C10008",
         "BALANCE": 1823.652743,
         "BALANCE_FREQUENCY": 1,
         "PURCHASES": 436.2,
         "ONEOFF_PURCHASES": 0,
         "INSTALLMENTS_PURCHASES": 436.2,
         "CASH_ADVANCE": 0,
         "PURCHASES_FREQUENCY": 1,
         "ONEOFF_PURCHASES_FREQUENCY": 0,
         "PURCHASES_INSTALLMENTS_FREQUENCY": 1,
         "CASH_ADVANCE_FREQUENCY": 0,
         "CASH_ADVANCE_TRX": 0,
         "PURCHASES_TRX": 12,
         "CREDIT_LIMIT": 2300,
         "PAYMENTS": 679.065082,
         "MINIMUM_PAYMENTS": 532.03399,
         "PRC_FULL_PAYMENT": 0,
         "TENURE": 12,
         "_deepnote_index_column": 7
        },
        {
         "CUST_ID": "C10009",
         "BALANCE": 1014.926473,
         "BALANCE_FREQUENCY": 1,
         "PURCHASES": 861.49,
         "ONEOFF_PURCHASES": 661.49,
         "INSTALLMENTS_PURCHASES": 200,
         "CASH_ADVANCE": 0,
         "PURCHASES_FREQUENCY": 0.333333,
         "ONEOFF_PURCHASES_FREQUENCY": 0.083333,
         "PURCHASES_INSTALLMENTS_FREQUENCY": 0.25,
         "CASH_ADVANCE_FREQUENCY": 0,
         "CASH_ADVANCE_TRX": 0,
         "PURCHASES_TRX": 5,
         "CREDIT_LIMIT": 7000,
         "PAYMENTS": 688.278568,
         "MINIMUM_PAYMENTS": 311.963409,
         "PRC_FULL_PAYMENT": 0,
         "TENURE": 12,
         "_deepnote_index_column": 8
        },
        {
         "CUST_ID": "C10010",
         "BALANCE": 152.225975,
         "BALANCE_FREQUENCY": 0.545455,
         "PURCHASES": 1281.6,
         "ONEOFF_PURCHASES": 1281.6,
         "INSTALLMENTS_PURCHASES": 0,
         "CASH_ADVANCE": 0,
         "PURCHASES_FREQUENCY": 0.166667,
         "ONEOFF_PURCHASES_FREQUENCY": 0.166667,
         "PURCHASES_INSTALLMENTS_FREQUENCY": 0,
         "CASH_ADVANCE_FREQUENCY": 0,
         "CASH_ADVANCE_TRX": 0,
         "PURCHASES_TRX": 3,
         "CREDIT_LIMIT": 11000,
         "PAYMENTS": 1164.770591,
         "MINIMUM_PAYMENTS": 100.302262,
         "PRC_FULL_PAYMENT": 0,
         "TENURE": 12,
         "_deepnote_index_column": 9
        }
       ]
      },
      "text/plain": "     CUST_ID      BALANCE  BALANCE_FREQUENCY  PURCHASES  ONEOFF_PURCHASES  \\\n0     C10001    40.900749           0.818182      95.40              0.00   \n1     C10002  3202.467416           0.909091       0.00              0.00   \n2     C10003  2495.148862           1.000000     773.17            773.17   \n3     C10004  1666.670542           0.636364    1499.00           1499.00   \n4     C10005   817.714335           1.000000      16.00             16.00   \n...      ...          ...                ...        ...               ...   \n8945  C19186    28.493517           1.000000     291.12              0.00   \n8946  C19187    19.183215           1.000000     300.00              0.00   \n8947  C19188    23.398673           0.833333     144.40              0.00   \n8948  C19189    13.457564           0.833333       0.00              0.00   \n8949  C19190   372.708075           0.666667    1093.25           1093.25   \n\n      INSTALLMENTS_PURCHASES  CASH_ADVANCE  PURCHASES_FREQUENCY  \\\n0                      95.40      0.000000             0.166667   \n1                       0.00   6442.945483             0.000000   \n2                       0.00      0.000000             1.000000   \n3                       0.00    205.788017             0.083333   \n4                       0.00      0.000000             0.083333   \n...                      ...           ...                  ...   \n8945                  291.12      0.000000             1.000000   \n8946                  300.00      0.000000             1.000000   \n8947                  144.40      0.000000             0.833333   \n8948                    0.00     36.558778             0.000000   \n8949                    0.00    127.040008             0.666667   \n\n      ONEOFF_PURCHASES_FREQUENCY  PURCHASES_INSTALLMENTS_FREQUENCY  \\\n0                       0.000000                          0.083333   \n1                       0.000000                          0.000000   \n2                       1.000000                          0.000000   \n3                       0.083333                          0.000000   \n4                       0.083333                          0.000000   \n...                          ...                               ...   \n8945                    0.000000                          0.833333   \n8946                    0.000000                          0.833333   \n8947                    0.000000                          0.666667   \n8948                    0.000000                          0.000000   \n8949                    0.666667                          0.000000   \n\n      CASH_ADVANCE_FREQUENCY  CASH_ADVANCE_TRX  PURCHASES_TRX  CREDIT_LIMIT  \\\n0                   0.000000                 0              2        1000.0   \n1                   0.250000                 4              0        7000.0   \n2                   0.000000                 0             12        7500.0   \n3                   0.083333                 1              1        7500.0   \n4                   0.000000                 0              1        1200.0   \n...                      ...               ...            ...           ...   \n8945                0.000000                 0              6        1000.0   \n8946                0.000000                 0              6        1000.0   \n8947                0.000000                 0              5        1000.0   \n8948                0.166667                 2              0         500.0   \n8949                0.333333                 2             23        1200.0   \n\n         PAYMENTS  MINIMUM_PAYMENTS  PRC_FULL_PAYMENT  TENURE  \n0      201.802084        139.509787          0.000000      12  \n1     4103.032597       1072.340217          0.222222      12  \n2      622.066742        627.284787          0.000000      12  \n3        0.000000               NaN          0.000000      12  \n4      678.334763        244.791237          0.000000      12  \n...           ...               ...               ...     ...  \n8945   325.594462         48.886365          0.500000       6  \n8946   275.861322               NaN          0.000000       6  \n8947    81.270775         82.418369          0.250000       6  \n8948    52.549959         55.755628          0.250000       6  \n8949    63.165404         88.288956          0.000000       6  \n\n[8950 rows x 18 columns]",
      "text/html": "<div>\n<style scoped>\n    .dataframe tbody tr th:only-of-type {\n        vertical-align: middle;\n    }\n\n    .dataframe tbody tr th {\n        vertical-align: top;\n    }\n\n    .dataframe thead th {\n        text-align: right;\n    }\n</style>\n<table border=\"1\" class=\"dataframe\">\n  <thead>\n    <tr style=\"text-align: right;\">\n      <th></th>\n      <th>CUST_ID</th>\n      <th>BALANCE</th>\n      <th>BALANCE_FREQUENCY</th>\n      <th>PURCHASES</th>\n      <th>ONEOFF_PURCHASES</th>\n      <th>INSTALLMENTS_PURCHASES</th>\n      <th>CASH_ADVANCE</th>\n      <th>PURCHASES_FREQUENCY</th>\n      <th>ONEOFF_PURCHASES_FREQUENCY</th>\n      <th>PURCHASES_INSTALLMENTS_FREQUENCY</th>\n      <th>CASH_ADVANCE_FREQUENCY</th>\n      <th>CASH_ADVANCE_TRX</th>\n      <th>PURCHASES_TRX</th>\n      <th>CREDIT_LIMIT</th>\n      <th>PAYMENTS</th>\n      <th>MINIMUM_PAYMENTS</th>\n      <th>PRC_FULL_PAYMENT</th>\n      <th>TENURE</th>\n    </tr>\n  </thead>\n  <tbody>\n    <tr>\n      <th>0</th>\n      <td>C10001</td>\n      <td>40.900749</td>\n      <td>0.818182</td>\n      <td>95.40</td>\n      <td>0.00</td>\n      <td>95.40</td>\n      <td>0.000000</td>\n      <td>0.166667</td>\n      <td>0.000000</td>\n      <td>0.083333</td>\n      <td>0.000000</td>\n      <td>0</td>\n      <td>2</td>\n      <td>1000.0</td>\n      <td>201.802084</td>\n      <td>139.509787</td>\n      <td>0.000000</td>\n      <td>12</td>\n    </tr>\n    <tr>\n      <th>1</th>\n      <td>C10002</td>\n      <td>3202.467416</td>\n      <td>0.909091</td>\n      <td>0.00</td>\n      <td>0.00</td>\n      <td>0.00</td>\n      <td>6442.945483</td>\n      <td>0.000000</td>\n      <td>0.000000</td>\n      <td>0.000000</td>\n      <td>0.250000</td>\n      <td>4</td>\n      <td>0</td>\n      <td>7000.0</td>\n      <td>4103.032597</td>\n      <td>1072.340217</td>\n      <td>0.222222</td>\n      <td>12</td>\n    </tr>\n    <tr>\n      <th>2</th>\n      <td>C10003</td>\n      <td>2495.148862</td>\n      <td>1.000000</td>\n      <td>773.17</td>\n      <td>773.17</td>\n      <td>0.00</td>\n      <td>0.000000</td>\n      <td>1.000000</td>\n      <td>1.000000</td>\n      <td>0.000000</td>\n      <td>0.000000</td>\n      <td>0</td>\n      <td>12</td>\n      <td>7500.0</td>\n      <td>622.066742</td>\n      <td>627.284787</td>\n      <td>0.000000</td>\n      <td>12</td>\n    </tr>\n    <tr>\n      <th>3</th>\n      <td>C10004</td>\n      <td>1666.670542</td>\n      <td>0.636364</td>\n      <td>1499.00</td>\n      <td>1499.00</td>\n      <td>0.00</td>\n      <td>205.788017</td>\n      <td>0.083333</td>\n      <td>0.083333</td>\n      <td>0.000000</td>\n      <td>0.083333</td>\n      <td>1</td>\n      <td>1</td>\n      <td>7500.0</td>\n      <td>0.000000</td>\n      <td>NaN</td>\n      <td>0.000000</td>\n      <td>12</td>\n    </tr>\n    <tr>\n      <th>4</th>\n      <td>C10005</td>\n      <td>817.714335</td>\n      <td>1.000000</td>\n      <td>16.00</td>\n      <td>16.00</td>\n      <td>0.00</td>\n      <td>0.000000</td>\n      <td>0.083333</td>\n      <td>0.083333</td>\n      <td>0.000000</td>\n      <td>0.000000</td>\n      <td>0</td>\n      <td>1</td>\n      <td>1200.0</td>\n      <td>678.334763</td>\n      <td>244.791237</td>\n      <td>0.000000</td>\n      <td>12</td>\n    </tr>\n    <tr>\n      <th>...</th>\n      <td>...</td>\n      <td>...</td>\n      <td>...</td>\n      <td>...</td>\n      <td>...</td>\n      <td>...</td>\n      <td>...</td>\n      <td>...</td>\n      <td>...</td>\n      <td>...</td>\n      <td>...</td>\n      <td>...</td>\n      <td>...</td>\n      <td>...</td>\n      <td>...</td>\n      <td>...</td>\n      <td>...</td>\n      <td>...</td>\n    </tr>\n    <tr>\n      <th>8945</th>\n      <td>C19186</td>\n      <td>28.493517</td>\n      <td>1.000000</td>\n      <td>291.12</td>\n      <td>0.00</td>\n      <td>291.12</td>\n      <td>0.000000</td>\n      <td>1.000000</td>\n      <td>0.000000</td>\n      <td>0.833333</td>\n      <td>0.000000</td>\n      <td>0</td>\n      <td>6</td>\n      <td>1000.0</td>\n      <td>325.594462</td>\n      <td>48.886365</td>\n      <td>0.500000</td>\n      <td>6</td>\n    </tr>\n    <tr>\n      <th>8946</th>\n      <td>C19187</td>\n      <td>19.183215</td>\n      <td>1.000000</td>\n      <td>300.00</td>\n      <td>0.00</td>\n      <td>300.00</td>\n      <td>0.000000</td>\n      <td>1.000000</td>\n      <td>0.000000</td>\n      <td>0.833333</td>\n      <td>0.000000</td>\n      <td>0</td>\n      <td>6</td>\n      <td>1000.0</td>\n      <td>275.861322</td>\n      <td>NaN</td>\n      <td>0.000000</td>\n      <td>6</td>\n    </tr>\n    <tr>\n      <th>8947</th>\n      <td>C19188</td>\n      <td>23.398673</td>\n      <td>0.833333</td>\n      <td>144.40</td>\n      <td>0.00</td>\n      <td>144.40</td>\n      <td>0.000000</td>\n      <td>0.833333</td>\n      <td>0.000000</td>\n      <td>0.666667</td>\n      <td>0.000000</td>\n      <td>0</td>\n      <td>5</td>\n      <td>1000.0</td>\n      <td>81.270775</td>\n      <td>82.418369</td>\n      <td>0.250000</td>\n      <td>6</td>\n    </tr>\n    <tr>\n      <th>8948</th>\n      <td>C19189</td>\n      <td>13.457564</td>\n      <td>0.833333</td>\n      <td>0.00</td>\n      <td>0.00</td>\n      <td>0.00</td>\n      <td>36.558778</td>\n      <td>0.000000</td>\n      <td>0.000000</td>\n      <td>0.000000</td>\n      <td>0.166667</td>\n      <td>2</td>\n      <td>0</td>\n      <td>500.0</td>\n      <td>52.549959</td>\n      <td>55.755628</td>\n      <td>0.250000</td>\n      <td>6</td>\n    </tr>\n    <tr>\n      <th>8949</th>\n      <td>C19190</td>\n      <td>372.708075</td>\n      <td>0.666667</td>\n      <td>1093.25</td>\n      <td>1093.25</td>\n      <td>0.00</td>\n      <td>127.040008</td>\n      <td>0.666667</td>\n      <td>0.666667</td>\n      <td>0.000000</td>\n      <td>0.333333</td>\n      <td>2</td>\n      <td>23</td>\n      <td>1200.0</td>\n      <td>63.165404</td>\n      <td>88.288956</td>\n      <td>0.000000</td>\n      <td>6</td>\n    </tr>\n  </tbody>\n</table>\n<p>8950 rows × 18 columns</p>\n</div>"
     },
     "metadata": {}
    }
   ],
   "execution_count": 5
  },
  {
   "cell_type": "code",
   "source": "creditcard_df.info()",
   "metadata": {
    "cell_id": "7655758934cd44518e9e1c288a34bcfa",
    "tags": [],
    "deepnote_to_be_reexecuted": false,
    "source_hash": "8cc6bac5",
    "execution_start": 1651849781637,
    "execution_millis": 1,
    "deepnote_cell_type": "code",
    "deepnote_cell_height": 590
   },
   "outputs": [
    {
     "name": "stdout",
     "text": "<class 'pandas.core.frame.DataFrame'>\nRangeIndex: 8950 entries, 0 to 8949\nData columns (total 18 columns):\n #   Column                            Non-Null Count  Dtype  \n---  ------                            --------------  -----  \n 0   CUST_ID                           8950 non-null   object \n 1   BALANCE                           8950 non-null   float64\n 2   BALANCE_FREQUENCY                 8950 non-null   float64\n 3   PURCHASES                         8950 non-null   float64\n 4   ONEOFF_PURCHASES                  8950 non-null   float64\n 5   INSTALLMENTS_PURCHASES            8950 non-null   float64\n 6   CASH_ADVANCE                      8950 non-null   float64\n 7   PURCHASES_FREQUENCY               8950 non-null   float64\n 8   ONEOFF_PURCHASES_FREQUENCY        8950 non-null   float64\n 9   PURCHASES_INSTALLMENTS_FREQUENCY  8950 non-null   float64\n 10  CASH_ADVANCE_FREQUENCY            8950 non-null   float64\n 11  CASH_ADVANCE_TRX                  8950 non-null   int64  \n 12  PURCHASES_TRX                     8950 non-null   int64  \n 13  CREDIT_LIMIT                      8949 non-null   float64\n 14  PAYMENTS                          8950 non-null   float64\n 15  MINIMUM_PAYMENTS                  8637 non-null   float64\n 16  PRC_FULL_PAYMENT                  8950 non-null   float64\n 17  TENURE                            8950 non-null   int64  \ndtypes: float64(14), int64(3), object(1)\nmemory usage: 1.2+ MB\n",
     "output_type": "stream"
    }
   ],
   "execution_count": 6
  },
  {
   "cell_type": "markdown",
   "source": "- CUSTID: Identificación del titular de la tarjeta de crédito\n- BALANCE: Cantidad de saldo que queda en la cuenta del cliente para hacer compras\n- BALANCE_FREQUENCY: Frecuencia de la actualización del saldo, puntuación entre 0 y 1 (1 = actualizado con frecuencia, 0 = no actualizado con frecuencia)\n- PURCHASES: Cantidad de compras realizadas desde la cuenta\n- ONEOFFPURCHASES: Importe máximo de compra realizado en una sola vez\n- INSTALLMENTS_PURCHASES: Importe de la compra realizada en cuotas\n- CASH_ADVANCE: Anticipo otorgado al usuario\n- PURCHASES_FREQUENCY: frecuencia con la que se realizan las compras, puntuación entre 0 y 1 (1 = compras frecuentes, 0 = compras no frecuentes)\n- PURCHASES_FREQUENCY: Frecuencia de las Compras se están realizando, puntuación entre 0 y 1 (1 = compra con frecuencia, 0 = no compra con frecuencia)\n- ONEOFF_PURCHASES_FREQUENCY: Con qué frecuencia las compras se realizan de una sola vez (1 = compra con frecuencia, 0 = no compra con frecuencia)\n- PURCHASES_INSTALLMENTS_FREQUENCY: Con qué frecuencia se realizan las compras a plazos (1 = se realizan con frecuencia, 0 = no se realizan con frecuencia)\n- CASH_ADVANCE_FREQUENCY: con qué frecuencia el gasto se paga por adelantado\n- CASH_ADVANCE_TRX: número de transacciones realizadas con \"Efectivo por adelantado\"\n- PURCHASES_TRX: número de transacciones de compras realizadas\n- CREDIT_LIMIT: límite de tarjeta de crédito para el usuario\n- PAYMENTS: Número de pagos realizados por el usuario\n- MINIMUM_PAYMENTS: cantidad mínima de pagos realizados por el usuario\n- PRC_FULL_PAYMENT: porcentaje del pago total pagado por el usuario\n- TENURE: Años que el usuario lleva usando el servicio de tarjeta de crédito",
   "metadata": {
    "cell_id": "a5c7cba20bc64c54b96b0fc2e80bf496",
    "tags": [],
    "deepnote_cell_type": "markdown",
    "deepnote_cell_height": 645.38330078125
   }
  },
  {
   "cell_type": "code",
   "source": "creditcard_df.describe()",
   "metadata": {
    "cell_id": "8015caee1d7b431d8dcf7434894df638",
    "tags": [],
    "deepnote_to_be_reexecuted": false,
    "source_hash": "50b2647f",
    "execution_start": 1651849861193,
    "execution_millis": 165,
    "deepnote_cell_type": "code",
    "deepnote_cell_height": 529.75
   },
   "outputs": [
    {
     "output_type": "execute_result",
     "execution_count": 7,
     "data": {
      "application/vnd.deepnote.dataframe.v3+json": {
       "column_count": 17,
       "row_count": 8,
       "columns": [
        {
         "name": "BALANCE",
         "dtype": "float64",
         "stats": {
          "unique_count": 8,
          "nan_count": 0,
          "min": "0.0",
          "max": "19043.13856",
          "histogram": [
           {
            "bin_start": 0,
            "bin_end": 1904.313856,
            "count": 4
           },
           {
            "bin_start": 1904.313856,
            "bin_end": 3808.627712,
            "count": 2
           },
           {
            "bin_start": 3808.627712,
            "bin_end": 5712.941568,
            "count": 0
           },
           {
            "bin_start": 5712.941568,
            "bin_end": 7617.255424,
            "count": 0
           },
           {
            "bin_start": 7617.255424,
            "bin_end": 9521.56928,
            "count": 1
           },
           {
            "bin_start": 9521.56928,
            "bin_end": 11425.883136,
            "count": 0
           },
           {
            "bin_start": 11425.883136,
            "bin_end": 13330.196992,
            "count": 0
           },
           {
            "bin_start": 13330.196992,
            "bin_end": 15234.510848,
            "count": 0
           },
           {
            "bin_start": 15234.510848,
            "bin_end": 17138.824704,
            "count": 0
           },
           {
            "bin_start": 17138.824704,
            "bin_end": 19043.13856,
            "count": 1
           }
          ]
         }
        },
        {
         "name": "BALANCE_FREQUENCY",
         "dtype": "float64",
         "stats": {
          "unique_count": 6,
          "nan_count": 0,
          "min": "0.0",
          "max": "8950.0",
          "histogram": [
           {
            "bin_start": 0,
            "bin_end": 895,
            "count": 7
           },
           {
            "bin_start": 895,
            "bin_end": 1790,
            "count": 0
           },
           {
            "bin_start": 1790,
            "bin_end": 2685,
            "count": 0
           },
           {
            "bin_start": 2685,
            "bin_end": 3580,
            "count": 0
           },
           {
            "bin_start": 3580,
            "bin_end": 4475,
            "count": 0
           },
           {
            "bin_start": 4475,
            "bin_end": 5370,
            "count": 0
           },
           {
            "bin_start": 5370,
            "bin_end": 6265,
            "count": 0
           },
           {
            "bin_start": 6265,
            "bin_end": 7160,
            "count": 0
           },
           {
            "bin_start": 7160,
            "bin_end": 8055,
            "count": 0
           },
           {
            "bin_start": 8055,
            "bin_end": 8950,
            "count": 1
           }
          ]
         }
        },
        {
         "name": "PURCHASES",
         "dtype": "float64",
         "stats": {
          "unique_count": 8,
          "nan_count": 0,
          "min": "0.0",
          "max": "49039.57",
          "histogram": [
           {
            "bin_start": 0,
            "bin_end": 4903.957,
            "count": 6
           },
           {
            "bin_start": 4903.957,
            "bin_end": 9807.914,
            "count": 1
           },
           {
            "bin_start": 9807.914,
            "bin_end": 14711.871000000001,
            "count": 0
           },
           {
            "bin_start": 14711.871000000001,
            "bin_end": 19615.828,
            "count": 0
           },
           {
            "bin_start": 19615.828,
            "bin_end": 24519.785000000003,
            "count": 0
           },
           {
            "bin_start": 24519.785000000003,
            "bin_end": 29423.742000000002,
            "count": 0
           },
           {
            "bin_start": 29423.742000000002,
            "bin_end": 34327.699,
            "count": 0
           },
           {
            "bin_start": 34327.699,
            "bin_end": 39231.656,
            "count": 0
           },
           {
            "bin_start": 39231.656,
            "bin_end": 44135.613000000005,
            "count": 0
           },
           {
            "bin_start": 44135.613000000005,
            "bin_end": 49039.57,
            "count": 1
           }
          ]
         }
        },
        {
         "name": "ONEOFF_PURCHASES",
         "dtype": "float64",
         "stats": {
          "unique_count": 7,
          "nan_count": 0,
          "min": "0.0",
          "max": "40761.25",
          "histogram": [
           {
            "bin_start": 0,
            "bin_end": 4076.125,
            "count": 6
           },
           {
            "bin_start": 4076.125,
            "bin_end": 8152.25,
            "count": 0
           },
           {
            "bin_start": 8152.25,
            "bin_end": 12228.375,
            "count": 1
           },
           {
            "bin_start": 12228.375,
            "bin_end": 16304.5,
            "count": 0
           },
           {
            "bin_start": 16304.5,
            "bin_end": 20380.625,
            "count": 0
           },
           {
            "bin_start": 20380.625,
            "bin_end": 24456.75,
            "count": 0
           },
           {
            "bin_start": 24456.75,
            "bin_end": 28532.875,
            "count": 0
           },
           {
            "bin_start": 28532.875,
            "bin_end": 32609,
            "count": 0
           },
           {
            "bin_start": 32609,
            "bin_end": 36685.125,
            "count": 0
           },
           {
            "bin_start": 36685.125,
            "bin_end": 40761.25,
            "count": 1
           }
          ]
         }
        },
        {
         "name": "INSTALLMENTS_PURCHASES",
         "dtype": "float64",
         "stats": {
          "unique_count": 7,
          "nan_count": 0,
          "min": "0.0",
          "max": "22500.0",
          "histogram": [
           {
            "bin_start": 0,
            "bin_end": 2250,
            "count": 6
           },
           {
            "bin_start": 2250,
            "bin_end": 4500,
            "count": 0
           },
           {
            "bin_start": 4500,
            "bin_end": 6750,
            "count": 0
           },
           {
            "bin_start": 6750,
            "bin_end": 9000,
            "count": 1
           },
           {
            "bin_start": 9000,
            "bin_end": 11250,
            "count": 0
           },
           {
            "bin_start": 11250,
            "bin_end": 13500,
            "count": 0
           },
           {
            "bin_start": 13500,
            "bin_end": 15750,
            "count": 0
           },
           {
            "bin_start": 15750,
            "bin_end": 18000,
            "count": 0
           },
           {
            "bin_start": 18000,
            "bin_end": 20250,
            "count": 0
           },
           {
            "bin_start": 20250,
            "bin_end": 22500,
            "count": 1
           }
          ]
         }
        },
        {
         "name": "CASH_ADVANCE",
         "dtype": "float64",
         "stats": {
          "unique_count": 6,
          "nan_count": 0,
          "min": "0.0",
          "max": "47137.21176",
          "histogram": [
           {
            "bin_start": 0,
            "bin_end": 4713.721176,
            "count": 6
           },
           {
            "bin_start": 4713.721176,
            "bin_end": 9427.442352,
            "count": 1
           },
           {
            "bin_start": 9427.442352,
            "bin_end": 14141.163528000001,
            "count": 0
           },
           {
            "bin_start": 14141.163528000001,
            "bin_end": 18854.884704,
            "count": 0
           },
           {
            "bin_start": 18854.884704,
            "bin_end": 23568.60588,
            "count": 0
           },
           {
            "bin_start": 23568.60588,
            "bin_end": 28282.327056000002,
            "count": 0
           },
           {
            "bin_start": 28282.327056000002,
            "bin_end": 32996.048232,
            "count": 0
           },
           {
            "bin_start": 32996.048232,
            "bin_end": 37709.769408,
            "count": 0
           },
           {
            "bin_start": 37709.769408,
            "bin_end": 42423.490584,
            "count": 0
           },
           {
            "bin_start": 42423.490584,
            "bin_end": 47137.21176,
            "count": 1
           }
          ]
         }
        },
        {
         "name": "PURCHASES_FREQUENCY",
         "dtype": "float64",
         "stats": {
          "unique_count": 8,
          "nan_count": 0,
          "min": "0.0",
          "max": "8950.0",
          "histogram": [
           {
            "bin_start": 0,
            "bin_end": 895,
            "count": 7
           },
           {
            "bin_start": 895,
            "bin_end": 1790,
            "count": 0
           },
           {
            "bin_start": 1790,
            "bin_end": 2685,
            "count": 0
           },
           {
            "bin_start": 2685,
            "bin_end": 3580,
            "count": 0
           },
           {
            "bin_start": 3580,
            "bin_end": 4475,
            "count": 0
           },
           {
            "bin_start": 4475,
            "bin_end": 5370,
            "count": 0
           },
           {
            "bin_start": 5370,
            "bin_end": 6265,
            "count": 0
           },
           {
            "bin_start": 6265,
            "bin_end": 7160,
            "count": 0
           },
           {
            "bin_start": 7160,
            "bin_end": 8055,
            "count": 0
           },
           {
            "bin_start": 8055,
            "bin_end": 8950,
            "count": 1
           }
          ]
         }
        },
        {
         "name": "ONEOFF_PURCHASES_FREQUENCY",
         "dtype": "float64",
         "stats": {
          "unique_count": 7,
          "nan_count": 0,
          "min": "0.0",
          "max": "8950.0",
          "histogram": [
           {
            "bin_start": 0,
            "bin_end": 895,
            "count": 7
           },
           {
            "bin_start": 895,
            "bin_end": 1790,
            "count": 0
           },
           {
            "bin_start": 1790,
            "bin_end": 2685,
            "count": 0
           },
           {
            "bin_start": 2685,
            "bin_end": 3580,
            "count": 0
           },
           {
            "bin_start": 3580,
            "bin_end": 4475,
            "count": 0
           },
           {
            "bin_start": 4475,
            "bin_end": 5370,
            "count": 0
           },
           {
            "bin_start": 5370,
            "bin_end": 6265,
            "count": 0
           },
           {
            "bin_start": 6265,
            "bin_end": 7160,
            "count": 0
           },
           {
            "bin_start": 7160,
            "bin_end": 8055,
            "count": 0
           },
           {
            "bin_start": 8055,
            "bin_end": 8950,
            "count": 1
           }
          ]
         }
        },
        {
         "name": "PURCHASES_INSTALLMENTS_FREQUENCY",
         "dtype": "float64",
         "stats": {
          "unique_count": 7,
          "nan_count": 0,
          "min": "0.0",
          "max": "8950.0",
          "histogram": [
           {
            "bin_start": 0,
            "bin_end": 895,
            "count": 7
           },
           {
            "bin_start": 895,
            "bin_end": 1790,
            "count": 0
           },
           {
            "bin_start": 1790,
            "bin_end": 2685,
            "count": 0
           },
           {
            "bin_start": 2685,
            "bin_end": 3580,
            "count": 0
           },
           {
            "bin_start": 3580,
            "bin_end": 4475,
            "count": 0
           },
           {
            "bin_start": 4475,
            "bin_end": 5370,
            "count": 0
           },
           {
            "bin_start": 5370,
            "bin_end": 6265,
            "count": 0
           },
           {
            "bin_start": 6265,
            "bin_end": 7160,
            "count": 0
           },
           {
            "bin_start": 7160,
            "bin_end": 8055,
            "count": 0
           },
           {
            "bin_start": 8055,
            "bin_end": 8950,
            "count": 1
           }
          ]
         }
        },
        {
         "name": "CASH_ADVANCE_FREQUENCY",
         "dtype": "float64",
         "stats": {
          "unique_count": 6,
          "nan_count": 0,
          "min": "0.0",
          "max": "8950.0",
          "histogram": [
           {
            "bin_start": 0,
            "bin_end": 895,
            "count": 7
           },
           {
            "bin_start": 895,
            "bin_end": 1790,
            "count": 0
           },
           {
            "bin_start": 1790,
            "bin_end": 2685,
            "count": 0
           },
           {
            "bin_start": 2685,
            "bin_end": 3580,
            "count": 0
           },
           {
            "bin_start": 3580,
            "bin_end": 4475,
            "count": 0
           },
           {
            "bin_start": 4475,
            "bin_end": 5370,
            "count": 0
           },
           {
            "bin_start": 5370,
            "bin_end": 6265,
            "count": 0
           },
           {
            "bin_start": 6265,
            "bin_end": 7160,
            "count": 0
           },
           {
            "bin_start": 7160,
            "bin_end": 8055,
            "count": 0
           },
           {
            "bin_start": 8055,
            "bin_end": 8950,
            "count": 1
           }
          ]
         }
        },
        {
         "name": "CASH_ADVANCE_TRX",
         "dtype": "float64",
         "stats": {
          "unique_count": 6,
          "nan_count": 0,
          "min": "0.0",
          "max": "8950.0",
          "histogram": [
           {
            "bin_start": 0,
            "bin_end": 895,
            "count": 7
           },
           {
            "bin_start": 895,
            "bin_end": 1790,
            "count": 0
           },
           {
            "bin_start": 1790,
            "bin_end": 2685,
            "count": 0
           },
           {
            "bin_start": 2685,
            "bin_end": 3580,
            "count": 0
           },
           {
            "bin_start": 3580,
            "bin_end": 4475,
            "count": 0
           },
           {
            "bin_start": 4475,
            "bin_end": 5370,
            "count": 0
           },
           {
            "bin_start": 5370,
            "bin_end": 6265,
            "count": 0
           },
           {
            "bin_start": 6265,
            "bin_end": 7160,
            "count": 0
           },
           {
            "bin_start": 7160,
            "bin_end": 8055,
            "count": 0
           },
           {
            "bin_start": 8055,
            "bin_end": 8950,
            "count": 1
           }
          ]
         }
        },
        {
         "name": "PURCHASES_TRX",
         "dtype": "float64",
         "stats": {
          "unique_count": 8,
          "nan_count": 0,
          "min": "0.0",
          "max": "8950.0",
          "histogram": [
           {
            "bin_start": 0,
            "bin_end": 895,
            "count": 7
           },
           {
            "bin_start": 895,
            "bin_end": 1790,
            "count": 0
           },
           {
            "bin_start": 1790,
            "bin_end": 2685,
            "count": 0
           },
           {
            "bin_start": 2685,
            "bin_end": 3580,
            "count": 0
           },
           {
            "bin_start": 3580,
            "bin_end": 4475,
            "count": 0
           },
           {
            "bin_start": 4475,
            "bin_end": 5370,
            "count": 0
           },
           {
            "bin_start": 5370,
            "bin_end": 6265,
            "count": 0
           },
           {
            "bin_start": 6265,
            "bin_end": 7160,
            "count": 0
           },
           {
            "bin_start": 7160,
            "bin_end": 8055,
            "count": 0
           },
           {
            "bin_start": 8055,
            "bin_end": 8950,
            "count": 1
           }
          ]
         }
        },
        {
         "name": "CREDIT_LIMIT",
         "dtype": "float64",
         "stats": {
          "unique_count": 8,
          "nan_count": 0,
          "min": "50.0",
          "max": "30000.0",
          "histogram": [
           {
            "bin_start": 50,
            "bin_end": 3045,
            "count": 3
           },
           {
            "bin_start": 3045,
            "bin_end": 6040,
            "count": 2
           },
           {
            "bin_start": 6040,
            "bin_end": 9035,
            "count": 2
           },
           {
            "bin_start": 9035,
            "bin_end": 12030,
            "count": 0
           },
           {
            "bin_start": 12030,
            "bin_end": 15025,
            "count": 0
           },
           {
            "bin_start": 15025,
            "bin_end": 18020,
            "count": 0
           },
           {
            "bin_start": 18020,
            "bin_end": 21015,
            "count": 0
           },
           {
            "bin_start": 21015,
            "bin_end": 24010,
            "count": 0
           },
           {
            "bin_start": 24010,
            "bin_end": 27005,
            "count": 0
           },
           {
            "bin_start": 27005,
            "bin_end": 30000,
            "count": 1
           }
          ]
         }
        },
        {
         "name": "PAYMENTS",
         "dtype": "float64",
         "stats": {
          "unique_count": 8,
          "nan_count": 0,
          "min": "0.0",
          "max": "50721.48336",
          "histogram": [
           {
            "bin_start": 0,
            "bin_end": 5072.148336,
            "count": 6
           },
           {
            "bin_start": 5072.148336,
            "bin_end": 10144.296672,
            "count": 1
           },
           {
            "bin_start": 10144.296672,
            "bin_end": 15216.445008,
            "count": 0
           },
           {
            "bin_start": 15216.445008,
            "bin_end": 20288.593344,
            "count": 0
           },
           {
            "bin_start": 20288.593344,
            "bin_end": 25360.74168,
            "count": 0
           },
           {
            "bin_start": 25360.74168,
            "bin_end": 30432.890016,
            "count": 0
           },
           {
            "bin_start": 30432.890016,
            "bin_end": 35505.038352,
            "count": 0
           },
           {
            "bin_start": 35505.038352,
            "bin_end": 40577.186688,
            "count": 0
           },
           {
            "bin_start": 40577.186688,
            "bin_end": 45649.335024,
            "count": 0
           },
           {
            "bin_start": 45649.335024,
            "bin_end": 50721.48336,
            "count": 1
           }
          ]
         }
        },
        {
         "name": "MINIMUM_PAYMENTS",
         "dtype": "float64",
         "stats": {
          "unique_count": 8,
          "nan_count": 0,
          "min": "0.019163",
          "max": "76406.20752",
          "histogram": [
           {
            "bin_start": 0.019163,
            "bin_end": 7640.637998699999,
            "count": 6
           },
           {
            "bin_start": 7640.637998699999,
            "bin_end": 15281.2568344,
            "count": 1
           },
           {
            "bin_start": 15281.2568344,
            "bin_end": 22921.8756701,
            "count": 0
           },
           {
            "bin_start": 22921.8756701,
            "bin_end": 30562.494505799998,
            "count": 0
           },
           {
            "bin_start": 30562.494505799998,
            "bin_end": 38203.11334149999,
            "count": 0
           },
           {
            "bin_start": 38203.11334149999,
            "bin_end": 45843.73217719999,
            "count": 0
           },
           {
            "bin_start": 45843.73217719999,
            "bin_end": 53484.35101289999,
            "count": 0
           },
           {
            "bin_start": 53484.35101289999,
            "bin_end": 61124.96984859999,
            "count": 0
           },
           {
            "bin_start": 61124.96984859999,
            "bin_end": 68765.5886843,
            "count": 0
           },
           {
            "bin_start": 68765.5886843,
            "bin_end": 76406.20752,
            "count": 1
           }
          ]
         }
        },
        {
         "name": "PRC_FULL_PAYMENT",
         "dtype": "float64",
         "stats": {
          "unique_count": 6,
          "nan_count": 0,
          "min": "0.0",
          "max": "8950.0",
          "histogram": [
           {
            "bin_start": 0,
            "bin_end": 895,
            "count": 7
           },
           {
            "bin_start": 895,
            "bin_end": 1790,
            "count": 0
           },
           {
            "bin_start": 1790,
            "bin_end": 2685,
            "count": 0
           },
           {
            "bin_start": 2685,
            "bin_end": 3580,
            "count": 0
           },
           {
            "bin_start": 3580,
            "bin_end": 4475,
            "count": 0
           },
           {
            "bin_start": 4475,
            "bin_end": 5370,
            "count": 0
           },
           {
            "bin_start": 5370,
            "bin_end": 6265,
            "count": 0
           },
           {
            "bin_start": 6265,
            "bin_end": 7160,
            "count": 0
           },
           {
            "bin_start": 7160,
            "bin_end": 8055,
            "count": 0
           },
           {
            "bin_start": 8055,
            "bin_end": 8950,
            "count": 1
           }
          ]
         }
        },
        {
         "name": "TENURE",
         "dtype": "float64",
         "stats": {
          "unique_count": 5,
          "nan_count": 0,
          "min": "1.3383307693673285",
          "max": "8950.0",
          "histogram": [
           {
            "bin_start": 1.3383307693673285,
            "bin_end": 896.2044976924306,
            "count": 7
           },
           {
            "bin_start": 896.2044976924306,
            "bin_end": 1791.0706646154938,
            "count": 0
           },
           {
            "bin_start": 1791.0706646154938,
            "bin_end": 2685.9368315385573,
            "count": 0
           },
           {
            "bin_start": 2685.9368315385573,
            "bin_end": 3580.8029984616205,
            "count": 0
           },
           {
            "bin_start": 3580.8029984616205,
            "bin_end": 4475.669165384684,
            "count": 0
           },
           {
            "bin_start": 4475.669165384684,
            "bin_end": 5370.535332307747,
            "count": 0
           },
           {
            "bin_start": 5370.535332307747,
            "bin_end": 6265.40149923081,
            "count": 0
           },
           {
            "bin_start": 6265.40149923081,
            "bin_end": 7160.2676661538735,
            "count": 0
           },
           {
            "bin_start": 7160.2676661538735,
            "bin_end": 8055.133833076937,
            "count": 0
           },
           {
            "bin_start": 8055.133833076937,
            "bin_end": 8950,
            "count": 1
           }
          ]
         }
        },
        {
         "name": "_deepnote_index_column",
         "dtype": "object"
        }
       ],
       "rows": [
        {
         "BALANCE": 8950,
         "BALANCE_FREQUENCY": 8950,
         "PURCHASES": 8950,
         "ONEOFF_PURCHASES": 8950,
         "INSTALLMENTS_PURCHASES": 8950,
         "CASH_ADVANCE": 8950,
         "PURCHASES_FREQUENCY": 8950,
         "ONEOFF_PURCHASES_FREQUENCY": 8950,
         "PURCHASES_INSTALLMENTS_FREQUENCY": 8950,
         "CASH_ADVANCE_FREQUENCY": 8950,
         "CASH_ADVANCE_TRX": 8950,
         "PURCHASES_TRX": 8950,
         "CREDIT_LIMIT": 8949,
         "PAYMENTS": 8950,
         "MINIMUM_PAYMENTS": 8637,
         "PRC_FULL_PAYMENT": 8950,
         "TENURE": 8950,
         "_deepnote_index_column": "count"
        },
        {
         "BALANCE": 1564.4748276781006,
         "BALANCE_FREQUENCY": 0.8772707255865921,
         "PURCHASES": 1003.2048335195531,
         "ONEOFF_PURCHASES": 592.4373709497207,
         "INSTALLMENTS_PURCHASES": 411.0676446927374,
         "CASH_ADVANCE": 978.8711124654749,
         "PURCHASES_FREQUENCY": 0.49035054837988823,
         "ONEOFF_PURCHASES_FREQUENCY": 0.202457683575419,
         "PURCHASES_INSTALLMENTS_FREQUENCY": 0.3644373415642458,
         "CASH_ADVANCE_FREQUENCY": 0.13514420033519556,
         "CASH_ADVANCE_TRX": 3.2488268156424582,
         "PURCHASES_TRX": 14.709832402234637,
         "CREDIT_LIMIT": 4494.449450364621,
         "PAYMENTS": 1733.1438520248046,
         "MINIMUM_PAYMENTS": 864.2065423050828,
         "PRC_FULL_PAYMENT": 0.15371464849162012,
         "TENURE": 11.51731843575419,
         "_deepnote_index_column": "mean"
        },
        {
         "BALANCE": 2081.5318794565546,
         "BALANCE_FREQUENCY": 0.23690400268476855,
         "PURCHASES": 2136.6347818728887,
         "ONEOFF_PURCHASES": 1659.887917437811,
         "INSTALLMENTS_PURCHASES": 904.3381151753817,
         "CASH_ADVANCE": 2097.163876643234,
         "PURCHASES_FREQUENCY": 0.40137074736904105,
         "ONEOFF_PURCHASES_FREQUENCY": 0.2983360651847195,
         "PURCHASES_INSTALLMENTS_FREQUENCY": 0.39744777974541307,
         "CASH_ADVANCE_FREQUENCY": 0.2001213881474969,
         "CASH_ADVANCE_TRX": 6.824646744165832,
         "PURCHASES_TRX": 24.857649109884736,
         "CREDIT_LIMIT": 3638.8157254984967,
         "PAYMENTS": 2895.063756904574,
         "MINIMUM_PAYMENTS": 2372.4466065839747,
         "PRC_FULL_PAYMENT": 0.29249919623387854,
         "TENURE": 1.3383307693673285,
         "_deepnote_index_column": "std"
        },
        {
         "BALANCE": 0,
         "BALANCE_FREQUENCY": 0,
         "PURCHASES": 0,
         "ONEOFF_PURCHASES": 0,
         "INSTALLMENTS_PURCHASES": 0,
         "CASH_ADVANCE": 0,
         "PURCHASES_FREQUENCY": 0,
         "ONEOFF_PURCHASES_FREQUENCY": 0,
         "PURCHASES_INSTALLMENTS_FREQUENCY": 0,
         "CASH_ADVANCE_FREQUENCY": 0,
         "CASH_ADVANCE_TRX": 0,
         "PURCHASES_TRX": 0,
         "CREDIT_LIMIT": 50,
         "PAYMENTS": 0,
         "MINIMUM_PAYMENTS": 0.019163,
         "PRC_FULL_PAYMENT": 0,
         "TENURE": 6,
         "_deepnote_index_column": "min"
        },
        {
         "BALANCE": 128.2819155,
         "BALANCE_FREQUENCY": 0.888889,
         "PURCHASES": 39.635,
         "ONEOFF_PURCHASES": 0,
         "INSTALLMENTS_PURCHASES": 0,
         "CASH_ADVANCE": 0,
         "PURCHASES_FREQUENCY": 0.083333,
         "ONEOFF_PURCHASES_FREQUENCY": 0,
         "PURCHASES_INSTALLMENTS_FREQUENCY": 0,
         "CASH_ADVANCE_FREQUENCY": 0,
         "CASH_ADVANCE_TRX": 0,
         "PURCHASES_TRX": 1,
         "CREDIT_LIMIT": 1600,
         "PAYMENTS": 383.276166,
         "MINIMUM_PAYMENTS": 169.123707,
         "PRC_FULL_PAYMENT": 0,
         "TENURE": 12,
         "_deepnote_index_column": "25%"
        },
        {
         "BALANCE": 873.385231,
         "BALANCE_FREQUENCY": 1,
         "PURCHASES": 361.28,
         "ONEOFF_PURCHASES": 38,
         "INSTALLMENTS_PURCHASES": 89,
         "CASH_ADVANCE": 0,
         "PURCHASES_FREQUENCY": 0.5,
         "ONEOFF_PURCHASES_FREQUENCY": 0.083333,
         "PURCHASES_INSTALLMENTS_FREQUENCY": 0.166667,
         "CASH_ADVANCE_FREQUENCY": 0,
         "CASH_ADVANCE_TRX": 0,
         "PURCHASES_TRX": 7,
         "CREDIT_LIMIT": 3000,
         "PAYMENTS": 856.901546,
         "MINIMUM_PAYMENTS": 312.343947,
         "PRC_FULL_PAYMENT": 0,
         "TENURE": 12,
         "_deepnote_index_column": "50%"
        },
        {
         "BALANCE": 2054.1400355,
         "BALANCE_FREQUENCY": 1,
         "PURCHASES": 1110.13,
         "ONEOFF_PURCHASES": 577.405,
         "INSTALLMENTS_PURCHASES": 468.6375,
         "CASH_ADVANCE": 1113.8211392500002,
         "PURCHASES_FREQUENCY": 0.916667,
         "ONEOFF_PURCHASES_FREQUENCY": 0.3,
         "PURCHASES_INSTALLMENTS_FREQUENCY": 0.75,
         "CASH_ADVANCE_FREQUENCY": 0.222222,
         "CASH_ADVANCE_TRX": 4,
         "PURCHASES_TRX": 17,
         "CREDIT_LIMIT": 6500,
         "PAYMENTS": 1901.1343167500002,
         "MINIMUM_PAYMENTS": 825.485459,
         "PRC_FULL_PAYMENT": 0.142857,
         "TENURE": 12,
         "_deepnote_index_column": "75%"
        },
        {
         "BALANCE": 19043.13856,
         "BALANCE_FREQUENCY": 1,
         "PURCHASES": 49039.57,
         "ONEOFF_PURCHASES": 40761.25,
         "INSTALLMENTS_PURCHASES": 22500,
         "CASH_ADVANCE": 47137.21176,
         "PURCHASES_FREQUENCY": 1,
         "ONEOFF_PURCHASES_FREQUENCY": 1,
         "PURCHASES_INSTALLMENTS_FREQUENCY": 1,
         "CASH_ADVANCE_FREQUENCY": 1.5,
         "CASH_ADVANCE_TRX": 123,
         "PURCHASES_TRX": 358,
         "CREDIT_LIMIT": 30000,
         "PAYMENTS": 50721.48336,
         "MINIMUM_PAYMENTS": 76406.20752,
         "PRC_FULL_PAYMENT": 1,
         "TENURE": 12,
         "_deepnote_index_column": "max"
        }
       ]
      },
      "text/plain": "            BALANCE  BALANCE_FREQUENCY     PURCHASES  ONEOFF_PURCHASES  \\\ncount   8950.000000        8950.000000   8950.000000       8950.000000   \nmean    1564.474828           0.877271   1003.204834        592.437371   \nstd     2081.531879           0.236904   2136.634782       1659.887917   \nmin        0.000000           0.000000      0.000000          0.000000   \n25%      128.281915           0.888889     39.635000          0.000000   \n50%      873.385231           1.000000    361.280000         38.000000   \n75%     2054.140036           1.000000   1110.130000        577.405000   \nmax    19043.138560           1.000000  49039.570000      40761.250000   \n\n       INSTALLMENTS_PURCHASES  CASH_ADVANCE  PURCHASES_FREQUENCY  \\\ncount             8950.000000   8950.000000          8950.000000   \nmean               411.067645    978.871112             0.490351   \nstd                904.338115   2097.163877             0.401371   \nmin                  0.000000      0.000000             0.000000   \n25%                  0.000000      0.000000             0.083333   \n50%                 89.000000      0.000000             0.500000   \n75%                468.637500   1113.821139             0.916667   \nmax              22500.000000  47137.211760             1.000000   \n\n       ONEOFF_PURCHASES_FREQUENCY  PURCHASES_INSTALLMENTS_FREQUENCY  \\\ncount                 8950.000000                       8950.000000   \nmean                     0.202458                          0.364437   \nstd                      0.298336                          0.397448   \nmin                      0.000000                          0.000000   \n25%                      0.000000                          0.000000   \n50%                      0.083333                          0.166667   \n75%                      0.300000                          0.750000   \nmax                      1.000000                          1.000000   \n\n       CASH_ADVANCE_FREQUENCY  CASH_ADVANCE_TRX  PURCHASES_TRX  CREDIT_LIMIT  \\\ncount             8950.000000       8950.000000    8950.000000   8949.000000   \nmean                 0.135144          3.248827      14.709832   4494.449450   \nstd                  0.200121          6.824647      24.857649   3638.815725   \nmin                  0.000000          0.000000       0.000000     50.000000   \n25%                  0.000000          0.000000       1.000000   1600.000000   \n50%                  0.000000          0.000000       7.000000   3000.000000   \n75%                  0.222222          4.000000      17.000000   6500.000000   \nmax                  1.500000        123.000000     358.000000  30000.000000   \n\n           PAYMENTS  MINIMUM_PAYMENTS  PRC_FULL_PAYMENT       TENURE  \ncount   8950.000000       8637.000000       8950.000000  8950.000000  \nmean    1733.143852        864.206542          0.153715    11.517318  \nstd     2895.063757       2372.446607          0.292499     1.338331  \nmin        0.000000          0.019163          0.000000     6.000000  \n25%      383.276166        169.123707          0.000000    12.000000  \n50%      856.901546        312.343947          0.000000    12.000000  \n75%     1901.134317        825.485459          0.142857    12.000000  \nmax    50721.483360      76406.207520          1.000000    12.000000  ",
      "text/html": "<div>\n<style scoped>\n    .dataframe tbody tr th:only-of-type {\n        vertical-align: middle;\n    }\n\n    .dataframe tbody tr th {\n        vertical-align: top;\n    }\n\n    .dataframe thead th {\n        text-align: right;\n    }\n</style>\n<table border=\"1\" class=\"dataframe\">\n  <thead>\n    <tr style=\"text-align: right;\">\n      <th></th>\n      <th>BALANCE</th>\n      <th>BALANCE_FREQUENCY</th>\n      <th>PURCHASES</th>\n      <th>ONEOFF_PURCHASES</th>\n      <th>INSTALLMENTS_PURCHASES</th>\n      <th>CASH_ADVANCE</th>\n      <th>PURCHASES_FREQUENCY</th>\n      <th>ONEOFF_PURCHASES_FREQUENCY</th>\n      <th>PURCHASES_INSTALLMENTS_FREQUENCY</th>\n      <th>CASH_ADVANCE_FREQUENCY</th>\n      <th>CASH_ADVANCE_TRX</th>\n      <th>PURCHASES_TRX</th>\n      <th>CREDIT_LIMIT</th>\n      <th>PAYMENTS</th>\n      <th>MINIMUM_PAYMENTS</th>\n      <th>PRC_FULL_PAYMENT</th>\n      <th>TENURE</th>\n    </tr>\n  </thead>\n  <tbody>\n    <tr>\n      <th>count</th>\n      <td>8950.000000</td>\n      <td>8950.000000</td>\n      <td>8950.000000</td>\n      <td>8950.000000</td>\n      <td>8950.000000</td>\n      <td>8950.000000</td>\n      <td>8950.000000</td>\n      <td>8950.000000</td>\n      <td>8950.000000</td>\n      <td>8950.000000</td>\n      <td>8950.000000</td>\n      <td>8950.000000</td>\n      <td>8949.000000</td>\n      <td>8950.000000</td>\n      <td>8637.000000</td>\n      <td>8950.000000</td>\n      <td>8950.000000</td>\n    </tr>\n    <tr>\n      <th>mean</th>\n      <td>1564.474828</td>\n      <td>0.877271</td>\n      <td>1003.204834</td>\n      <td>592.437371</td>\n      <td>411.067645</td>\n      <td>978.871112</td>\n      <td>0.490351</td>\n      <td>0.202458</td>\n      <td>0.364437</td>\n      <td>0.135144</td>\n      <td>3.248827</td>\n      <td>14.709832</td>\n      <td>4494.449450</td>\n      <td>1733.143852</td>\n      <td>864.206542</td>\n      <td>0.153715</td>\n      <td>11.517318</td>\n    </tr>\n    <tr>\n      <th>std</th>\n      <td>2081.531879</td>\n      <td>0.236904</td>\n      <td>2136.634782</td>\n      <td>1659.887917</td>\n      <td>904.338115</td>\n      <td>2097.163877</td>\n      <td>0.401371</td>\n      <td>0.298336</td>\n      <td>0.397448</td>\n      <td>0.200121</td>\n      <td>6.824647</td>\n      <td>24.857649</td>\n      <td>3638.815725</td>\n      <td>2895.063757</td>\n      <td>2372.446607</td>\n      <td>0.292499</td>\n      <td>1.338331</td>\n    </tr>\n    <tr>\n      <th>min</th>\n      <td>0.000000</td>\n      <td>0.000000</td>\n      <td>0.000000</td>\n      <td>0.000000</td>\n      <td>0.000000</td>\n      <td>0.000000</td>\n      <td>0.000000</td>\n      <td>0.000000</td>\n      <td>0.000000</td>\n      <td>0.000000</td>\n      <td>0.000000</td>\n      <td>0.000000</td>\n      <td>50.000000</td>\n      <td>0.000000</td>\n      <td>0.019163</td>\n      <td>0.000000</td>\n      <td>6.000000</td>\n    </tr>\n    <tr>\n      <th>25%</th>\n      <td>128.281915</td>\n      <td>0.888889</td>\n      <td>39.635000</td>\n      <td>0.000000</td>\n      <td>0.000000</td>\n      <td>0.000000</td>\n      <td>0.083333</td>\n      <td>0.000000</td>\n      <td>0.000000</td>\n      <td>0.000000</td>\n      <td>0.000000</td>\n      <td>1.000000</td>\n      <td>1600.000000</td>\n      <td>383.276166</td>\n      <td>169.123707</td>\n      <td>0.000000</td>\n      <td>12.000000</td>\n    </tr>\n    <tr>\n      <th>50%</th>\n      <td>873.385231</td>\n      <td>1.000000</td>\n      <td>361.280000</td>\n      <td>38.000000</td>\n      <td>89.000000</td>\n      <td>0.000000</td>\n      <td>0.500000</td>\n      <td>0.083333</td>\n      <td>0.166667</td>\n      <td>0.000000</td>\n      <td>0.000000</td>\n      <td>7.000000</td>\n      <td>3000.000000</td>\n      <td>856.901546</td>\n      <td>312.343947</td>\n      <td>0.000000</td>\n      <td>12.000000</td>\n    </tr>\n    <tr>\n      <th>75%</th>\n      <td>2054.140036</td>\n      <td>1.000000</td>\n      <td>1110.130000</td>\n      <td>577.405000</td>\n      <td>468.637500</td>\n      <td>1113.821139</td>\n      <td>0.916667</td>\n      <td>0.300000</td>\n      <td>0.750000</td>\n      <td>0.222222</td>\n      <td>4.000000</td>\n      <td>17.000000</td>\n      <td>6500.000000</td>\n      <td>1901.134317</td>\n      <td>825.485459</td>\n      <td>0.142857</td>\n      <td>12.000000</td>\n    </tr>\n    <tr>\n      <th>max</th>\n      <td>19043.138560</td>\n      <td>1.000000</td>\n      <td>49039.570000</td>\n      <td>40761.250000</td>\n      <td>22500.000000</td>\n      <td>47137.211760</td>\n      <td>1.000000</td>\n      <td>1.000000</td>\n      <td>1.000000</td>\n      <td>1.500000</td>\n      <td>123.000000</td>\n      <td>358.000000</td>\n      <td>30000.000000</td>\n      <td>50721.483360</td>\n      <td>76406.207520</td>\n      <td>1.000000</td>\n      <td>12.000000</td>\n    </tr>\n  </tbody>\n</table>\n</div>"
     },
     "metadata": {}
    }
   ],
   "execution_count": 7
  },
  {
   "cell_type": "markdown",
   "source": "- El balance medio es $1564 \n- La frecuencia del balance se actualiza bastante a menudo, en promedio ~0.9\n- El promedio de las compras es $1000\n- El importe máximo de compra no recurrente es en promedio ~$600\n- El promedio de la frecuencia de las compras está cerca de 0.5\n- El promedio de ONEOFF_PURCHASES_FREQUENCY, PURCHASES_INSTALLMENTS_FREQUENCY, y CASH_ADVANCE_FREQUENCY es en general bajo\n- El promedio del límite de crédito es ~ 4500\n- El porcentaje de pago completo es 15%\n- Los clientes llevan de promedio en el servicio 11 años",
   "metadata": {
    "cell_id": "7ab8ef8249be42c4b693f64c3bc6a91f",
    "tags": [],
    "deepnote_cell_type": "markdown",
    "deepnote_cell_height": 511.95001220703125
   }
  },
  {
   "cell_type": "code",
   "source": "",
   "metadata": {
    "cell_id": "0c1dab4669eb4b8a8155d3ddcf9a7553",
    "tags": [],
    "owner_user_id": "257c0c75-3144-4ffc-8aa5-a1c61e01187f",
    "deepnote_cell_type": "code"
   },
   "outputs": [],
   "execution_count": null
  },
  {
   "cell_type": "markdown",
   "source": "<a style='text-decoration:none;line-height:16px;display:flex;color:#5B5B62;padding:10px;justify-content:end;' href='https://deepnote.com?utm_source=created-in-deepnote-cell&projectId=411b8b93-d907-447c-b9ee-0c6a1d3e8371' target=\"_blank\">\n<img alt='Created in deepnote.com' style='display:inline;max-height:16px;margin:0px;margin-right:7.5px;' src='data:image/svg+xml;base64,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' > </img>\nCreated in <span style='font-weight:600;margin-left:4px;'>Deepnote</span></a>",
   "metadata": {
    "tags": [],
    "created_in_deepnote_cell": true,
    "deepnote_cell_type": "markdown"
   }
  }
 ],
 "nbformat": 4,
 "nbformat_minor": 2,
 "metadata": {
  "language_info": {
   "name": "python"
  },
  "orig_nbformat": 4,
  "deepnote_notebook_id": "bf414a50-9370-4c23-825f-99dceba111be",
  "deepnote": {},
  "deepnote_execution_queue": []
 }
}